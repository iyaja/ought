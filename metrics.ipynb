{
 "cells": [
  {
   "cell_type": "code",
   "execution_count": 1,
   "id": "canadian-quarterly",
   "metadata": {},
   "outputs": [],
   "source": [
    "#default_exp metrics"
   ]
  },
  {
   "cell_type": "markdown",
   "id": "static-trigger",
   "metadata": {},
   "source": [
    "# Metrics\n",
    "\n",
    "> Generic utility functions to evaluate models"
   ]
  },
  {
   "cell_type": "code",
   "execution_count": null,
   "id": "dimensional-elimination",
   "metadata": {},
   "outputs": [],
   "source": [
    "from ought.starter import *"
   ]
  },
  {
   "cell_type": "markdown",
   "id": "educated-encounter",
   "metadata": {},
   "source": [
    "## Utility Functions"
   ]
  },
  {
   "cell_type": "markdown",
   "id": "assisted-spain",
   "metadata": {},
   "source": [
    "One of the first orders of buisness is setting up a clear objective to optimize. Here, the goal is to get as high an accuracy as possible on text classification on the test set, so the metric is accuracy."
   ]
  },
  {
   "cell_type": "code",
   "execution_count": 5,
   "id": "virtual-lincoln",
   "metadata": {},
   "outputs": [],
   "source": [
    "def accuracy(model):\n",
    "    INSTRUCTIONS = 'Label each of the following examples as \"AI\" or \"NOT AI\"'\n",
    "    prompt = make_prompt(INSTRUCTIONS, train[:4], train[4])\n",
    "    pred = model(prompt)"
   ]
  }
 ],
 "metadata": {
  "kernelspec": {
   "display_name": "Python 3",
   "language": "python",
   "name": "python3"
  },
  "language_info": {
   "codemirror_mode": {
    "name": "ipython",
    "version": 3
   },
   "file_extension": ".py",
   "mimetype": "text/x-python",
   "name": "python",
   "nbconvert_exporter": "python",
   "pygments_lexer": "ipython3",
   "version": "3.8.3"
  }
 },
 "nbformat": 4,
 "nbformat_minor": 5
}
