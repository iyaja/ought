{
 "cells": [
  {
   "cell_type": "code",
   "execution_count": null,
   "id": "stylish-proxy",
   "metadata": {},
   "outputs": [],
   "source": [
    "#default_exp metrics"
   ]
  },
  {
   "cell_type": "markdown",
   "id": "lyric-given",
   "metadata": {},
   "source": [
    "# Metrics\n",
    "\n",
    "> Metrics, evaluations, and results for all models"
   ]
  },
  {
   "cell_type": "code",
   "execution_count": null,
   "id": "convenient-magnitude",
   "metadata": {},
   "outputs": [],
   "source": [
    "from ought.starter import *\n",
    "from ought.lstm import *\n",
    "from ought.bart import *\n",
    "from ought.gpt import *\n",
    "import numpy as np\n",
    "from tqdm import tqdm"
   ]
  },
  {
   "cell_type": "markdown",
   "id": "skilled-shopping",
   "metadata": {},
   "source": [
    "## Metrics"
   ]
  },
  {
   "cell_type": "markdown",
   "id": "sacred-teach",
   "metadata": {},
   "source": [
    "One of the first orders of buisness is setting up a clear objective to optimize. Here, the goal is to get as high an accuracy as possible on text classification on the test set, so the metric is accuracy."
   ]
  },
  {
   "cell_type": "code",
   "execution_count": null,
   "id": "amino-textbook",
   "metadata": {},
   "outputs": [],
   "source": [
    "#export\n",
    "class Metrics:\n",
    "    def __init__(self, json='data/valid.jsonl', samples=50):\n",
    "        self.samples = uniform_samples(json, samples)\n",
    "        print(f\"loaded {len(self.samples)} samples\")\n",
    "        \n",
    "    def accuracy(self, predict_func):\n",
    "        hits = []\n",
    "        for sample in self.samples:\n",
    "            prompt = sample['text']\n",
    "            response = predict_func(prompt)\n",
    "            \n",
    "            # this portion is specific to binary AI/NOT AI classification\n",
    "            # it can be replaced with a callback\n",
    "            if (response.upper() == 'NOT AI'):\n",
    "                pred = 'False'\n",
    "            elif (response.upper() == 'AI'):\n",
    "                pred = 'True'\n",
    "            else:\n",
    "                print(f\"got invalid response: {response}\")\n",
    "                continue\n",
    "                \n",
    "            real = sample['label']\n",
    "            hits.append(pred == real)\n",
    "        \n",
    "        return np.array(hits).sum() / len(hits)"
   ]
  },
  {
   "cell_type": "code",
   "execution_count": null,
   "id": "trained-paris",
   "metadata": {},
   "outputs": [
    {
     "name": "stdout",
     "output_type": "stream",
     "text": [
      "loaded 20 samples\n"
     ]
    }
   ],
   "source": [
    "metrics = Metrics('data/dev.jsonl', 10)"
   ]
  },
  {
   "cell_type": "markdown",
   "id": "central-asbestos",
   "metadata": {},
   "source": [
    "The dataset is imbalanced heavily, but since the `Metrics` class uses a uniform sampler to get the samples for checking accuracy, a function that always predicts a constant label should have 50% aaaccuracy."
   ]
  },
  {
   "cell_type": "code",
   "execution_count": null,
   "id": "enabling-possession",
   "metadata": {},
   "outputs": [
    {
     "data": {
      "text/plain": [
       "0.5"
      ]
     },
     "execution_count": null,
     "metadata": {},
     "output_type": "execute_result"
    }
   ],
   "source": [
    "metrics.accuracy(lambda c: 'Not AI')"
   ]
  },
  {
   "cell_type": "markdown",
   "id": "short-taste",
   "metadata": {},
   "source": [
    "Perfect! Now we can test all our models. Please refer to the other pages/files for more details on what each model is/does."
   ]
  },
  {
   "cell_type": "markdown",
   "id": "worth-workplace",
   "metadata": {},
   "source": [
    "## Evaluating Individual Models"
   ]
  },
  {
   "cell_type": "markdown",
   "id": "equal-arena",
   "metadata": {},
   "source": [
    "We'll now check the accuracy of each model individually. Note that this section may require a few restarts to clear GPU memory, as we are loading all models together. "
   ]
  },
  {
   "cell_type": "markdown",
   "id": "initial-pittsburgh",
   "metadata": {},
   "source": [
    "### GPT-2"
   ]
  },
  {
   "cell_type": "code",
   "execution_count": null,
   "id": "composed-ecuador",
   "metadata": {},
   "outputs": [
    {
     "name": "stderr",
     "output_type": "stream",
     "text": [
      "Setting `pad_token_id` to `eos_token_id`:50256 for open-end generation.\n",
      "Setting `pad_token_id` to `eos_token_id`:50256 for open-end generation.\n",
      "Setting `pad_token_id` to `eos_token_id`:50256 for open-end generation.\n",
      "Setting `pad_token_id` to `eos_token_id`:50256 for open-end generation.\n",
      "Setting `pad_token_id` to `eos_token_id`:50256 for open-end generation.\n",
      "Setting `pad_token_id` to `eos_token_id`:50256 for open-end generation.\n",
      "Setting `pad_token_id` to `eos_token_id`:50256 for open-end generation.\n",
      "Setting `pad_token_id` to `eos_token_id`:50256 for open-end generation.\n",
      "Setting `pad_token_id` to `eos_token_id`:50256 for open-end generation.\n",
      "Setting `pad_token_id` to `eos_token_id`:50256 for open-end generation.\n",
      "Setting `pad_token_id` to `eos_token_id`:50256 for open-end generation.\n",
      "Setting `pad_token_id` to `eos_token_id`:50256 for open-end generation.\n",
      "Setting `pad_token_id` to `eos_token_id`:50256 for open-end generation.\n",
      "Setting `pad_token_id` to `eos_token_id`:50256 for open-end generation.\n",
      "Setting `pad_token_id` to `eos_token_id`:50256 for open-end generation.\n",
      "Setting `pad_token_id` to `eos_token_id`:50256 for open-end generation.\n",
      "Setting `pad_token_id` to `eos_token_id`:50256 for open-end generation.\n",
      "Setting `pad_token_id` to `eos_token_id`:50256 for open-end generation.\n",
      "Setting `pad_token_id` to `eos_token_id`:50256 for open-end generation.\n",
      "Setting `pad_token_id` to `eos_token_id`:50256 for open-end generation.\n"
     ]
    },
    {
     "name": "stdout",
     "output_type": "stream",
     "text": [
      "CPU times: user 12.5 s, sys: 785 ms, total: 13.3 s\n",
      "Wall time: 9.35 s\n"
     ]
    }
   ],
   "source": [
    "%%time\n",
    "%%capture\n",
    "model = GPTLMClassifier(samples=2)\n",
    "acc = metrics.accuracy(model.predict)"
   ]
  },
  {
   "cell_type": "code",
   "execution_count": null,
   "id": "applicable-pasta",
   "metadata": {},
   "outputs": [
    {
     "data": {
      "text/plain": [
       "0.5"
      ]
     },
     "execution_count": null,
     "metadata": {},
     "output_type": "execute_result"
    }
   ],
   "source": [
    "acc"
   ]
  },
  {
   "cell_type": "code",
   "execution_count": null,
   "id": "concerned-horizontal",
   "metadata": {},
   "outputs": [
    {
     "name": "stdout",
     "output_type": "stream",
     "text": [
      "CPU times: user 11.5 s, sys: 825 ms, total: 12.3 s\n",
      "Wall time: 8.52 s\n"
     ]
    }
   ],
   "source": [
    "%%time\n",
    "%%capture\n",
    "model = GPTMatmulClassifier(samples=6)\n",
    "acc = metrics.accuracy(model.predict)"
   ]
  },
  {
   "cell_type": "code",
   "execution_count": null,
   "id": "abroad-assumption",
   "metadata": {},
   "outputs": [
    {
     "data": {
      "text/plain": [
       "0.65"
      ]
     },
     "execution_count": null,
     "metadata": {},
     "output_type": "execute_result"
    }
   ],
   "source": [
    "acc"
   ]
  },
  {
   "cell_type": "code",
   "execution_count": null,
   "id": "still-shaft",
   "metadata": {},
   "outputs": [
    {
     "name": "stdout",
     "output_type": "stream",
     "text": [
      "CPU times: user 11.7 s, sys: 784 ms, total: 12.5 s\n",
      "Wall time: 8.63 s\n"
     ]
    }
   ],
   "source": [
    "%%time\n",
    "%%capture\n",
    "model = GPTSimilarityClassifier(samples=6)\n",
    "acc = metrics.accuracy(model.predict)"
   ]
  },
  {
   "cell_type": "code",
   "execution_count": null,
   "id": "raising-swiss",
   "metadata": {},
   "outputs": [
    {
     "data": {
      "text/plain": [
       "0.6"
      ]
     },
     "execution_count": null,
     "metadata": {},
     "output_type": "execute_result"
    }
   ],
   "source": [
    "acc"
   ]
  },
  {
   "cell_type": "markdown",
   "id": "announced-liquid",
   "metadata": {},
   "source": [
    "### LSTM"
   ]
  },
  {
   "cell_type": "code",
   "execution_count": null,
   "id": "mysterious-three",
   "metadata": {},
   "outputs": [
    {
     "name": "stdout",
     "output_type": "stream",
     "text": [
      "CPU times: user 19.2 s, sys: 6.53 s, total: 25.7 s\n",
      "Wall time: 24.2 s\n"
     ]
    }
   ],
   "source": [
    "%%time\n",
    "%%capture\n",
    "model = LSTMClassifier(samples=500)\n",
    "acc = metrics.accuracy(model.predict)"
   ]
  },
  {
   "cell_type": "code",
   "execution_count": null,
   "id": "flying-extreme",
   "metadata": {},
   "outputs": [
    {
     "data": {
      "text/plain": [
       "0.65"
      ]
     },
     "execution_count": null,
     "metadata": {},
     "output_type": "execute_result"
    }
   ],
   "source": [
    "acc"
   ]
  },
  {
   "cell_type": "markdown",
   "id": "operating-sucking",
   "metadata": {},
   "source": [
    "### BART"
   ]
  },
  {
   "cell_type": "code",
   "execution_count": null,
   "id": "small-proposal",
   "metadata": {},
   "outputs": [
    {
     "name": "stderr",
     "output_type": "stream",
     "text": [
      "Some weights of the model checkpoint at facebook/bart-large-mnli were not used when initializing BartModel: ['model.encoder.version', 'model.decoder.version']\n",
      "- This IS expected if you are initializing BartModel from the checkpoint of a model trained on another task or with another architecture (e.g. initializing a BertForSequenceClassification model from a BertForPreTraining model).\n",
      "- This IS NOT expected if you are initializing BartModel from the checkpoint of a model that you expect to be exactly identical (initializing a BertForSequenceClassification model from a BertForSequenceClassification model).\n",
      "Some weights of the model checkpoint at facebook/bart-large-mnli were not used when initializing BartForSequenceClassification: ['model.encoder.version', 'model.decoder.version']\n",
      "- This IS expected if you are initializing BartForSequenceClassification from the checkpoint of a model trained on another task or with another architecture (e.g. initializing a BertForSequenceClassification model from a BertForPreTraining model).\n",
      "- This IS NOT expected if you are initializing BartForSequenceClassification from the checkpoint of a model that you expect to be exactly identical (initializing a BertForSequenceClassification model from a BertForSequenceClassification model).\n"
     ]
    },
    {
     "name": "stdout",
     "output_type": "stream",
     "text": [
      "CPU times: user 57.7 s, sys: 1.55 s, total: 59.3 s\n",
      "Wall time: 33.2 s\n"
     ]
    }
   ],
   "source": [
    "%%time\n",
    "%%capture\n",
    "model = BARTClassifier(samples=5)\n",
    "acc = metrics.accuracy(model.predict)"
   ]
  },
  {
   "cell_type": "code",
   "execution_count": null,
   "id": "resistant-dominican",
   "metadata": {},
   "outputs": [
    {
     "data": {
      "text/plain": [
       "0.5"
      ]
     },
     "execution_count": null,
     "metadata": {},
     "output_type": "execute_result"
    }
   ],
   "source": [
    "acc"
   ]
  },
  {
   "cell_type": "markdown",
   "id": "given-awareness",
   "metadata": {},
   "source": [
    "## Ensembling"
   ]
  },
  {
   "cell_type": "markdown",
   "id": "killing-first",
   "metadata": {},
   "source": [
    "Finally, we can put it all together and ensemble across all models. This *should* give the most accurate predictions."
   ]
  },
  {
   "cell_type": "code",
   "execution_count": null,
   "id": "greek-enzyme",
   "metadata": {},
   "outputs": [],
   "source": [
    "#export\n",
    "class EnsembleClassifier:\n",
    "    def __init__(self):\n",
    "        gpt_lm = GPTLMClassifier(samples=2)\n",
    "        gpt_mm = GPTMatmulClassifier(samples=4)\n",
    "        gpt_sm = GPTSimilarityClassifier(samples=4)\n",
    "        lstm = LSTMClassifier(samples=10)\n",
    "        bart = BARTClassifier(samples=4)\n",
    "        self.models = [gpt_lm, gpt_mm, gpt_sm, lstm, bart]\n",
    "        \n",
    "    def predict(self, prompt):\n",
    "        preds = [model.predict(prompt) for model in self.models]\n",
    "        return max(set(preds), key=preds.count)        "
   ]
  },
  {
   "cell_type": "markdown",
   "id": "touched-lawyer",
   "metadata": {},
   "source": [
    "Unfortunately, there is not enough VRAM on this machine to run *all* models together. But running the following cells on a machine with sufficient memory will display the timings and results."
   ]
  },
  {
   "cell_type": "code",
   "execution_count": null,
   "id": "adult-blank",
   "metadata": {},
   "outputs": [],
   "source": [
    "%%time\n",
    "%%capture\n",
    "model = EnsembleClassifier()"
   ]
  },
  {
   "cell_type": "code",
   "execution_count": null,
   "id": "quick-ridge",
   "metadata": {},
   "outputs": [],
   "source": [
    "%%time\n",
    "%%capture\n",
    "acc = metrics.accuracy(model.predict)"
   ]
  },
  {
   "cell_type": "code",
   "execution_count": null,
   "id": "centered-wrong",
   "metadata": {},
   "outputs": [],
   "source": [
    "acc"
   ]
  },
  {
   "cell_type": "markdown",
   "id": "above-factor",
   "metadata": {},
   "source": [
    "## Improvements"
   ]
  },
  {
   "cell_type": "markdown",
   "id": "heavy-friend",
   "metadata": {},
   "source": [
    "None of the above models seem to be doign particularly great, but `GPTSimilarityClassifier` and `GPTMatmulClassifier` seems to have a slight edge. Additionally, some prompt engineering *could* be applied to the GPT-2 and BART models, but this a substantial improvement seems unlikely."
   ]
  }
 ],
 "metadata": {
  "kernelspec": {
   "display_name": "Python [conda env:root] *",
   "language": "python",
   "name": "conda-root-py"
  }
 },
 "nbformat": 4,
 "nbformat_minor": 5
}
