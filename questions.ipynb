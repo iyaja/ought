{
 "cells": [
  {
   "cell_type": "code",
   "execution_count": null,
   "id": "disturbed-annex",
   "metadata": {},
   "outputs": [],
   "source": [
    "import numpy as np"
   ]
  },
  {
   "cell_type": "code",
   "execution_count": null,
   "id": "synthetic-sculpture",
   "metadata": {},
   "outputs": [],
   "source": [
    "sample = [[\"O\", \"X\", \"X\", \"X\"], [\"X\", \"X\", \"X\", \"X\"], [\"X\", \"X\", \"X\", \"X\"]]"
   ]
  },
  {
   "cell_type": "code",
   "execution_count": null,
   "id": "million-amazon",
   "metadata": {},
   "outputs": [
    {
     "data": {
      "text/plain": [
       "array([['O', 'X', 'X', 'X'],\n",
       "       ['X', 'X', 'X', 'X'],\n",
       "       ['X', 'X', 'X', 'X']], dtype='<U1')"
      ]
     },
     "execution_count": null,
     "metadata": {},
     "output_type": "execute_result"
    }
   ],
   "source": [
    "np.array(sample)"
   ]
  },
  {
   "cell_type": "code",
   "execution_count": null,
   "id": "atmospheric-production",
   "metadata": {},
   "outputs": [],
   "source": [
    "c, r"
   ]
  },
  {
   "cell_type": "code",
   "execution_count": null,
   "id": "saving-mambo",
   "metadata": {},
   "outputs": [],
   "source": [
    "def count_xs(arr):\n",
    "    arr = np.array(arr).T\n",
    "    num_xs = []\n",
    "    for r in arr:\n",
    "        num_xs.append((r == 'X').sum())\n",
    "    return np.array(num_xs).max()"
   ]
  },
  {
   "cell_type": "code",
   "execution_count": null,
   "id": "opposite-smile",
   "metadata": {},
   "outputs": [
    {
     "data": {
      "text/plain": [
       "3"
      ]
     },
     "execution_count": null,
     "metadata": {},
     "output_type": "execute_result"
    }
   ],
   "source": [
    "count_xs(sample)"
   ]
  }
 ],
 "metadata": {
  "kernelspec": {
   "display_name": "Python 3",
   "language": "python",
   "name": "python3"
  }
 },
 "nbformat": 4,
 "nbformat_minor": 5
}
